{
 "cells": [
  {
   "cell_type": "code",
   "execution_count": 1,
   "metadata": {},
   "outputs": [],
   "source": [
    "import os"
   ]
  },
  {
   "cell_type": "code",
   "execution_count": 2,
   "metadata": {},
   "outputs": [
    {
     "data": {
      "text/plain": [
       "'c:\\\\Users\\\\ukwud\\\\OneDrive - Aston University\\\\Documents\\\\GitHub\\\\text-summarizer\\\\research'"
      ]
     },
     "execution_count": 2,
     "metadata": {},
     "output_type": "execute_result"
    }
   ],
   "source": [
    "%pwd"
   ]
  },
  {
   "cell_type": "code",
   "execution_count": 3,
   "metadata": {},
   "outputs": [],
   "source": [
    "os.chdir(\"../\")"
   ]
  },
  {
   "cell_type": "code",
   "execution_count": 4,
   "metadata": {},
   "outputs": [
    {
     "name": "stdout",
     "output_type": "stream",
     "text": [
      "c:\\Users\\ukwud\\OneDrive - Aston University\\Documents\\GitHub\\text-summarizer\n"
     ]
    }
   ],
   "source": [
    "print(os.getcwd())"
   ]
  },
  {
   "cell_type": "code",
   "execution_count": 5,
   "metadata": {},
   "outputs": [],
   "source": [
    "#entity\n",
    "\n",
    "from dataclasses import dataclass\n",
    "from pathlib import Path\n",
    "\n",
    "@dataclass(frozen=True)\n",
    "class ModelEvaluationConfig:\n",
    "    root_dir: Path\n",
    "    data_path: Path\n",
    "    model_path: Path\n",
    "    tokenizer_path: Path\n",
    "    metric_file_name: Path"
   ]
  },
  {
   "cell_type": "code",
   "execution_count": 6,
   "metadata": {},
   "outputs": [],
   "source": [
    "#utilities\n",
    "from text_summarizer.constants import *\n",
    "from text_summarizer.utils.common import read_yaml, create_directories"
   ]
  },
  {
   "cell_type": "code",
   "execution_count": 7,
   "metadata": {},
   "outputs": [],
   "source": [
    "class ConfigurationManager:\n",
    "    def __init__(self,\n",
    "                 config_filepath = CONFIG_FILE_PATH,\n",
    "                 params_filepath = PARAMS_FILE_PATH):\n",
    "        \n",
    "        self.config = read_yaml(config_filepath)\n",
    "        self.params = read_yaml(params_filepath)\n",
    "\n",
    "        create_directories([self.config.artifacts_root])\n",
    "    \n",
    "    def get_model_evaluation_config(self) -> ModelEvaluationConfig:\n",
    "        config = self.config.model_evaluation\n",
    "\n",
    "        create_directories([config.root_dir])\n",
    "\n",
    "        model_evaluation_config = ModelEvaluationConfig(\n",
    "            root_dir = config.root_dir,\n",
    "            data_path = config.data_path,\n",
    "            model_path = config.model_path,\n",
    "            tokenizer_path= config.tokenizer_path,\n",
    "            metric_file_name = config.metric_file_name            \n",
    "        )\n",
    "\n",
    "        return model_evaluation_config"
   ]
  },
  {
   "cell_type": "code",
   "execution_count": 8,
   "metadata": {},
   "outputs": [],
   "source": [
    "from transformers import AutoTokenizer, AutoModelForSeq2SeqLM\n",
    "from datasets import load_dataset, load_from_disk\n",
    "import torch\n",
    "import pandas as pd\n",
    "from tqdm import tqdm"
   ]
  },
  {
   "cell_type": "code",
   "execution_count": null,
   "metadata": {},
   "outputs": [],
   "source": [
    "class ModelEvaluation:\n",
    "    def __init__(self, config: ModelEvaluationConfig):\n",
    "        self.config = config\n",
    "    \n",
    "\n",
    "    def generate_batch_sized_bits(self, list_of_items, batch_size):\n",
    "        for i in range(0, len(list_of_items), batch_size):\n",
    "            yield list_of_items[i : i + batch_size]\n",
    "\n",
    "    def calculate_metrics_on_test(self,dataset, metric, model, tokenizer,\n",
    "                              batch_size=16, device=\"cuda\" if torch.cuda.is_available() else \"cpu\",\n",
    "                              column_text=\"article\",\n",
    "                              column_summary=\"highlights\"):\n",
    "        # Generate batches\n",
    "        article_batches = list(self.generate_batch_sized_bits(dataset[column_text], batch_size))\n",
    "        target_batches = list(self.generate_batch_sized_bits(dataset[column_summary], batch_size))\n",
    "\n",
    "        for article_batch, target_batch in tqdm(\n",
    "            zip(article_batches, target_batches), total=len(article_batches)):\n",
    "            \n",
    "            # Tokenize the input articles\n",
    "            inputs = tokenizer(\n",
    "                article_batch, max_length=1024, truncation=True,\n",
    "                padding=\"max_length\", return_tensors=\"pt\"\n",
    "            )\n",
    "            # # Move inputs to device\n",
    "            # inputs = {key: val.to(device) for key, val in inputs.items()}\n",
    "\n",
    "            # Generate summaries\n",
    "            encoded_summaries = model.generate(\n",
    "                input_ids=inputs[\"input_ids\"].to(device),\n",
    "                attention_mask=inputs[\"attention_mask\"].to(device),\n",
    "                length_penalty=0.8,\n",
    "                num_beams=8,\n",
    "                max_length=128\n",
    "            )\n",
    "\n",
    "            # Decode generated summaries\n",
    "            # Replacing the token and the decoded texts with reference to the metrics\n",
    "            decoded_summaries = [\n",
    "                tokenizer.decode(s, skip_special_tokens=True, clean_up_tokenization_spaces=True)\n",
    "                for s in encoded_summaries\n",
    "            ]\n",
    "            # Decode target summaries\n",
    "            decoded_summaries = [d.replace(\" \", \" \") for d in decoded_summaries]\n",
    "\n",
    "            # Add predictions and references to the metric\n",
    "            metric.add_batch(predictions=decoded_summaries, references=target_batch)\n",
    "\n",
    "        # Compute the ROUGE scores\n",
    "        score = metric.compute()\n",
    "        return score\n",
    "    \n",
    "    def evaluate(self):\n",
    "        device = \"cuda\" if torch.cuda.is_available() else \"cpu\"\n",
    "        tokenizer = AutoTokenizer.from_pretrained(self.config.tokenizer_path)\n",
    "        model_pegasus = AutoModelForSeq2SeqLM.from_pretrained(self.config.model_path).to(device)\n",
    "\n",
    "        dataset_samsum_pt = load_from_disk(self.config.data_path)\n",
    "    \n"
   ]
  }
 ],
 "metadata": {
  "kernelspec": {
   "display_name": "venv",
   "language": "python",
   "name": "python3"
  },
  "language_info": {
   "codemirror_mode": {
    "name": "ipython",
    "version": 3
   },
   "file_extension": ".py",
   "mimetype": "text/x-python",
   "name": "python",
   "nbconvert_exporter": "python",
   "pygments_lexer": "ipython3",
   "version": "3.11.0"
  }
 },
 "nbformat": 4,
 "nbformat_minor": 2
}
